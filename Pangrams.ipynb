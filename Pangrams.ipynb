import string

def ispangram(str1, alphabet=string.ascii_lowercase):
    str1 = str1.lower()
    str1 = str1.replace(' ','')
    flag = False
    for i in range(0,26):
        if alphabet[i] in str1:
            n = i
            flag = True
        else:
            flag = False
    if n==25 and flag == True:
        return True
    else:
        return False
            
        
