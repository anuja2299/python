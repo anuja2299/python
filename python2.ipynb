{
 "cells": [
  {
   "cell_type": "code",
   "execution_count": 1,
   "id": "06e07ff3-18f1-4381-ac2a-675b86601ca4",
   "metadata": {},
   "outputs": [],
   "source": [
    "from random import shuffle"
   ]
  },
  {
   "cell_type": "code",
   "execution_count": 2,
   "id": "23ab0bc7-2eca-4b9f-b593-6f6faf0a20ff",
   "metadata": {},
   "outputs": [],
   "source": [
    "my_list = [1,2,3,4,5,6,7,8,9]\n",
    "random_list = shuffle(my_list)"
   ]
  },
  {
   "cell_type": "code",
   "execution_count": 3,
   "id": "8cda11e2-5a7d-4620-9a3a-9992bbec8b78",
   "metadata": {},
   "outputs": [],
   "source": [
    "random_list"
   ]
  },
  {
   "cell_type": "code",
   "execution_count": 4,
   "id": "7899a5e2-b23e-453a-97ca-f8fb78c37bf0",
   "metadata": {},
   "outputs": [
    {
     "data": {
      "text/plain": [
       "[4, 8, 9, 5, 1, 7, 6, 2, 3]"
      ]
     },
     "execution_count": 4,
     "metadata": {},
     "output_type": "execute_result"
    }
   ],
   "source": [
    "my_list"
   ]
  },
  {
   "cell_type": "code",
   "execution_count": 5,
   "id": "24431db8-4e6a-475e-a49b-40bb063ae62a",
   "metadata": {},
   "outputs": [
    {
     "data": {
      "text/plain": [
       "5"
      ]
     },
     "execution_count": 5,
     "metadata": {},
     "output_type": "execute_result"
    }
   ],
   "source": [
    "from random import randint\n",
    "randint(0,100)"
   ]
  },
  {
   "cell_type": "code",
   "execution_count": 6,
   "id": "2f797701-5361-4b13-b021-e2646ea8a4f2",
   "metadata": {},
   "outputs": [
    {
     "name": "stdout",
     "output_type": "stream",
     "text": [
      "['apple', 'cherry', 'banana']\n"
     ]
    }
   ],
   "source": [
    "import random\n",
    "mylist = [\"apple\", \"banana\", \"cherry\"]\n",
    "random.shuffle(mylist)\n",
    "print(mylist)"
   ]
  },
  {
   "cell_type": "code",
   "execution_count": 9,
   "id": "6b79d6f1-7b55-4e04-8386-ff15f9ec30d1",
   "metadata": {},
   "outputs": [
    {
     "name": "stdin",
     "output_type": "stream",
     "text": [
      "enter a name anuja\n"
     ]
    }
   ],
   "source": [
    "result = input(\"enter a name\")"
   ]
  },
  {
   "cell_type": "code",
   "execution_count": 10,
   "id": "01e681c3-dc2f-40d1-a6a5-15e0b65f951c",
   "metadata": {},
   "outputs": [
    {
     "data": {
      "text/plain": [
       "'anuja'"
      ]
     },
     "execution_count": 10,
     "metadata": {},
     "output_type": "execute_result"
    }
   ],
   "source": [
    "result"
   ]
  },
  {
   "cell_type": "code",
   "execution_count": 11,
   "id": "74263c9f-9ba5-4545-987a-7b66a6307034",
   "metadata": {},
   "outputs": [
    {
     "name": "stdin",
     "output_type": "stream",
     "text": [
      "enter a random number :  23\n"
     ]
    },
    {
     "data": {
      "text/plain": [
       "23"
      ]
     },
     "execution_count": 11,
     "metadata": {},
     "output_type": "execute_result"
    }
   ],
   "source": [
    "int(input(\"enter a random number : \"))"
   ]
  },
  {
   "cell_type": "code",
   "execution_count": 13,
   "id": "673d155f-36ce-4766-87d1-3be031dd207c",
   "metadata": {},
   "outputs": [
    {
     "data": {
      "text/plain": [
       "['w', 'o', 'r', 'd']"
      ]
     },
     "execution_count": 13,
     "metadata": {},
     "output_type": "execute_result"
    }
   ],
   "source": [
    "mylist = [x for x in 'word']\n",
    "mylist"
   ]
  },
  {
   "cell_type": "code",
   "execution_count": 16,
   "id": "bd05e910-e50b-4a79-8ace-37f948411363",
   "metadata": {},
   "outputs": [
    {
     "data": {
      "text/plain": [
       "[0, 4, 8, 12, 16]"
      ]
     },
     "execution_count": 16,
     "metadata": {},
     "output_type": "execute_result"
    }
   ],
   "source": [
    "mylist = [x*2 for x in range(0,10)]\n",
    "mylist\n",
    "mylist = [x*2 for x in range(0,10) if x%2==0]\n",
    "mylist"
   ]
  },
  {
   "cell_type": "code",
   "execution_count": 2,
   "id": "ae276cb6-fd54-461e-9b86-d2ae402b3f5b",
   "metadata": {},
   "outputs": [],
   "source": [
    "mylist = [x*y for x in [1,2,34,11] for y in [4,5,62,13]]"
   ]
  },
  {
   "cell_type": "code",
   "execution_count": 3,
   "id": "16a4efbf-489e-4bcf-a06d-f15964129745",
   "metadata": {},
   "outputs": [
    {
     "data": {
      "text/plain": [
       "[4, 5, 62, 13, 8, 10, 124, 26, 136, 170, 2108, 442, 44, 55, 682, 143]"
      ]
     },
     "execution_count": 3,
     "metadata": {},
     "output_type": "execute_result"
    }
   ],
   "source": [
    "mylist"
   ]
  },
  {
   "cell_type": "code",
   "execution_count": 4,
   "id": "e2b852f5-a232-447d-95b7-4c06595580e5",
   "metadata": {},
   "outputs": [
    {
     "data": {
      "text/plain": [
       "143"
      ]
     },
     "execution_count": 4,
     "metadata": {},
     "output_type": "execute_result"
    }
   ],
   "source": [
    "mylist.pop()\n"
   ]
  },
  {
   "cell_type": "code",
   "execution_count": 14,
   "id": "3c74fb30-c440-4800-b291-ac4e373cb524",
   "metadata": {},
   "outputs": [],
   "source": [
    "def my_function(name='default'):\n",
    "    print(f\"hello {name}\"+name)"
   ]
  },
  {
   "cell_type": "code",
   "execution_count": 15,
   "id": "9d7e005a-8e5d-453e-8ea6-45a612f1f568",
   "metadata": {},
   "outputs": [
    {
     "name": "stdout",
     "output_type": "stream",
     "text": [
      "hello anujaanuja\n"
     ]
    }
   ],
   "source": [
    "my_function(\"anuja\")"
   ]
  },
  {
   "cell_type": "code",
   "execution_count": 16,
   "id": "6d3051a7-db99-45aa-b00a-6a18f0bc542c",
   "metadata": {},
   "outputs": [
    {
     "name": "stdout",
     "output_type": "stream",
     "text": [
      "hello defaultdefault\n"
     ]
    }
   ],
   "source": [
    "my_function()"
   ]
  },
  {
   "cell_type": "markdown",
   "id": "4a19e8d8-46ef-470d-8d29-4af925982a5c",
   "metadata": {},
   "source": [
    "return is saving a variable while print is not"
   ]
  },
  {
   "cell_type": "code",
   "execution_count": 17,
   "id": "87e07d56-1116-4176-80c7-5ec8e75ed598",
   "metadata": {},
   "outputs": [],
   "source": [
    "def print_result(a,b):\n",
    "    print(a+b)"
   ]
  },
  {
   "cell_type": "code",
   "execution_count": 18,
   "id": "e4c68556-2586-4a3c-a46a-0b1848188517",
   "metadata": {},
   "outputs": [],
   "source": [
    "def return_result(a,b):\n",
    "    return a+b"
   ]
  },
  {
   "cell_type": "code",
   "execution_count": 19,
   "id": "dcf52029-e9aa-43d8-a769-abc6bff35b40",
   "metadata": {
    "scrolled": true
   },
   "outputs": [
    {
     "name": "stdout",
     "output_type": "stream",
     "text": [
      "5\n"
     ]
    },
    {
     "data": {
      "text/plain": [
       "5"
      ]
     },
     "execution_count": 19,
     "metadata": {},
     "output_type": "execute_result"
    }
   ],
   "source": [
    "print_result(2,3)\n",
    "return_result(2,3)"
   ]
  },
  {
   "cell_type": "code",
   "execution_count": 20,
   "id": "1b591440-d57f-4f72-b664-7a64297d45ab",
   "metadata": {},
   "outputs": [
    {
     "name": "stdout",
     "output_type": "stream",
     "text": [
      "5\n"
     ]
    }
   ],
   "source": [
    "result = print_result(2,3)"
   ]
  },
  {
   "cell_type": "code",
   "execution_count": 21,
   "id": "8755de58-1764-43b2-8926-8b27a8f84252",
   "metadata": {},
   "outputs": [],
   "source": [
    "result"
   ]
  },
  {
   "cell_type": "code",
   "execution_count": 22,
   "id": "c4ea73a2-97df-417b-a3c0-ab45375d4f1d",
   "metadata": {},
   "outputs": [],
   "source": [
    "result = return_result(2,3)"
   ]
  },
  {
   "cell_type": "code",
   "execution_count": 23,
   "id": "5905f96e-4745-480d-bef8-3df56213ee3d",
   "metadata": {},
   "outputs": [
    {
     "data": {
      "text/plain": [
       "5"
      ]
     },
     "execution_count": 23,
     "metadata": {},
     "output_type": "execute_result"
    }
   ],
   "source": [
    "result"
   ]
  },
  {
   "cell_type": "code",
   "execution_count": 28,
   "id": "a3d47286-e051-4b4b-a286-7f436c9dd0e2",
   "metadata": {},
   "outputs": [],
   "source": [
    "def my_function(list):\n",
    "    for i in list:\n",
    "        if i%2 == 0:\n",
    "            return True\n",
    "            break\n",
    "        else:\n",
    "            pass"
   ]
  },
  {
   "cell_type": "code",
   "execution_count": 29,
   "id": "4c794797-b82d-436c-aa3d-b09c2d6918cd",
   "metadata": {},
   "outputs": [
    {
     "data": {
      "text/plain": [
       "True"
      ]
     },
     "execution_count": 29,
     "metadata": {},
     "output_type": "execute_result"
    }
   ],
   "source": [
    "list = [2,3,4,5,6,8]\n",
    "my_function(list)"
   ]
  },
  {
   "cell_type": "code",
   "execution_count": 4,
   "id": "b5bb35bf-8cbb-41c4-b151-0f78bbf7ba45",
   "metadata": {},
   "outputs": [],
   "source": [
    "work_hours = [('adarsh',200),('aswin',400),('sachin',600)]"
   ]
  },
  {
   "cell_type": "code",
   "execution_count": 5,
   "id": "20c4d12c-ba70-4c92-a78f-818df60bf933",
   "metadata": {},
   "outputs": [],
   "source": [
    "def max_work(record):\n",
    "    current_hour = 0\n",
    "    current_employee = ''\n",
    "    for employee,hour in record:\n",
    "        if hour >= current_hour:\n",
    "            current_hour = hour\n",
    "            current_employee = employee\n",
    "        else:\n",
    "            pass\n",
    "    return current_employee,current_hour"
   ]
  },
  {
   "cell_type": "code",
   "execution_count": 6,
   "id": "98340ec4-45d8-4aa1-88b6-1f15e35c4a3f",
   "metadata": {},
   "outputs": [
    {
     "data": {
      "text/plain": [
       "('sachin', 600)"
      ]
     },
     "execution_count": 6,
     "metadata": {},
     "output_type": "execute_result"
    }
   ],
   "source": [
    "max_work(work_hours)"
   ]
  },
  {
   "cell_type": "markdown",
   "id": "5fe8aa63-77f6-43a3-ad78-82d67c0aeffc",
   "metadata": {},
   "source": [
    "game ball and cup shuffling"
   ]
  },
  {
   "cell_type": "code",
   "execution_count": 10,
   "id": "8969c9b6-f39b-4fdd-b6d8-0fcfb9083584",
   "metadata": {},
   "outputs": [],
   "source": [
    "def ball_guessing(list,ball,position):\n",
    "    from random import shuffle\n",
    "    shuffle(list)\n",
    "    if position > len(list)-1:\n",
    "        print(\"invalid guess\")\n",
    "    else:\n",
    "        if list[ball]== list[position]:\n",
    "            print(\"currect guess\")\n",
    "        else:\n",
    "            print(\"incorrect guess\")\n",
    "        "
   ]
  },
  {
   "cell_type": "code",
   "execution_count": 11,
   "id": "7c3bf575-862a-47b5-904d-f420f3685750",
   "metadata": {},
   "outputs": [],
   "source": [
    "list = [1,2,3,4,5,6,7]\n"
   ]
  },
  {
   "cell_type": "code",
   "execution_count": 14,
   "id": "93774b16-0885-4cc9-81b0-0680d773bd93",
   "metadata": {},
   "outputs": [
    {
     "name": "stdout",
     "output_type": "stream",
     "text": [
      "incorrect guess\n"
     ]
    }
   ],
   "source": [
    "ball_guessing(list,3,2)"
   ]
  },
  {
   "cell_type": "markdown",
   "id": "07f6806a-1476-48c6-8e89-5af5008e77e4",
   "metadata": {},
   "source": [
    "initial list \\\\\n",
    "shuffle list -> function \\\\\n",
    "player guess -> function \\\\\n",
    "check guess -> function [input --- output of shuffle list & player guess\\\\"
   ]
  },
  {
   "cell_type": "code",
   "execution_count": 40,
   "id": "5771f10f-6704-40cc-b1fa-9e711bd37af3",
   "metadata": {},
   "outputs": [],
   "source": [
    "list = ['','0','']\n",
    "def shuffle_list(list):\n",
    "    from random import shuffle\n",
    "    shuffle(list)\n",
    "    return list"
   ]
  },
  {
   "cell_type": "code",
   "execution_count": 41,
   "id": "491ca8ca-31ad-43e9-8c84-924905c21f53",
   "metadata": {},
   "outputs": [],
   "source": [
    "def player_guess():\n",
    "    guess = ''\n",
    "    while guess not in['0','1','2']:\n",
    "        guess = input(\"choose a number from 0,1 or 2\")\n",
    "    return int(guess)"
   ]
  },
  {
   "cell_type": "code",
   "execution_count": 22,
   "id": "bdc278f1-50a4-4836-8ee5-7f5460e814ba",
   "metadata": {},
   "outputs": [
    {
     "name": "stdin",
     "output_type": "stream",
     "text": [
      "choose a number from 0,1 or 2 2\n"
     ]
    },
    {
     "data": {
      "text/plain": [
       "2"
      ]
     },
     "execution_count": 22,
     "metadata": {},
     "output_type": "execute_result"
    }
   ],
   "source": [
    "player_guess()"
   ]
  },
  {
   "cell_type": "code",
   "execution_count": 45,
   "id": "5c73a4e1-6a7a-43db-aecd-78adabbe30d2",
   "metadata": {},
   "outputs": [],
   "source": [
    "def check_guess(shuffle_list,guess):\n",
    "    if shuffle_list[guess] == '0':\n",
    "        print(\"correct!\")\n",
    "        print(shuffle_list)\n",
    "    else:\n",
    "        print(\"wrong guess\")\n",
    "        print(shuffle_list)"
   ]
  },
  {
   "cell_type": "code",
   "execution_count": 47,
   "id": "324e5f53-e190-4fe5-ab67-fa7ae658ac69",
   "metadata": {},
   "outputs": [
    {
     "name": "stdin",
     "output_type": "stream",
     "text": [
      "choose a number from 0,1 or 2 0\n"
     ]
    },
    {
     "name": "stdout",
     "output_type": "stream",
     "text": [
      "wrong guess\n",
      "['', '0', '']\n"
     ]
    }
   ],
   "source": [
    "list = ['','0','']\n",
    "shuffled_list = shuffle_list(list)\n",
    "guess = player_guess()\n",
    "check_guess(shuffled_list,guess)\n"
   ]
  },
  {
   "cell_type": "code",
   "execution_count": 5,
   "id": "d0f3e328-6ab2-454e-b204-78ec8322f3ac",
   "metadata": {},
   "outputs": [],
   "source": [
    "def my_function(*anuja):\n",
    "    for item in anuja:\n",
    "        print(item)"
   ]
  },
  {
   "cell_type": "code",
   "execution_count": 6,
   "id": "4274e8cd-421b-4cbd-a179-84fb33233f5c",
   "metadata": {},
   "outputs": [
    {
     "name": "stdout",
     "output_type": "stream",
     "text": [
      "2\n",
      "3\n",
      "4\n",
      "5\n",
      "7\n"
     ]
    }
   ],
   "source": [
    "my_function(2,3,4,5,7)"
   ]
  },
  {
   "cell_type": "markdown",
   "id": "726df9eb-4a01-4e5a-9d64-ad886a8a3cde",
   "metadata": {},
   "source": [
    "dictionary of key value pairs"
   ]
  },
  {
   "cell_type": "code",
   "execution_count": 40,
   "id": "45d33bf0-d774-4108-9b2c-d7e9dde20095",
   "metadata": {},
   "outputs": [],
   "source": [
    "def my_function(**kwargs):\n",
    "    for item in kwargs:\n",
    "        if item=='fruit':\n",
    "            print(\"the fruit is {}\".format(kwargs[item]))\n",
    "        else:\n",
    "            print(\"there is no fruit here\")"
   ]
  },
  {
   "cell_type": "code",
   "execution_count": 42,
   "id": "b9c3bc58-3b72-4adb-ba6a-2d631ab6a6a4",
   "metadata": {},
   "outputs": [
    {
     "name": "stdout",
     "output_type": "stream",
     "text": [
      "the fruit is deepak\n",
      "there is no fruit here\n",
      "there is no fruit here\n"
     ]
    }
   ],
   "source": [
    "my_function(fruit='deepak',fruits = 'anuja',abhi='pottan')"
   ]
  },
  {
   "cell_type": "code",
   "execution_count": 57,
   "id": "e97fed3b-026a-4d9a-8581-a4b739a3fbe3",
   "metadata": {},
   "outputs": [],
   "source": [
    "def my_function(*args,**kwargs):\n",
    "    print(args)\n",
    "    print(kwargs)\n",
    "    print(\"this is an example {} of {}\".format(args[0],kwargs['achu']))"
   ]
  },
  {
   "cell_type": "code",
   "execution_count": 58,
   "id": "b82f2e59-b1cc-4ef4-9fee-cb0bf8016c69",
   "metadata": {},
   "outputs": [
    {
     "name": "stdout",
     "output_type": "stream",
     "text": [
      "(11, 12, 13)\n",
      "{'anu': 'anuja', 'achu': 'aswin', 'unnis': 'unni'}\n",
      "this is an example 11 of aswin\n"
     ]
    }
   ],
   "source": [
    "my_function(11,12,13,anu='anuja',achu='aswin',unnis='unni')"
   ]
  },
  {
   "cell_type": "code",
   "execution_count": 82,
   "id": "ceb934ee-ff64-4695-86cc-833dd0910afc",
   "metadata": {},
   "outputs": [],
   "source": [
    "def myfunc(*args):\n",
    "    for i in args:\n",
    "        if i.isupper():\n",
    "            print(i)\n",
    "            print(i.isupper())\n",
    "            "
   ]
  },
  {
   "cell_type": "code",
   "execution_count": 83,
   "id": "330b77f9-14cf-434a-90cb-3e8e20424574",
   "metadata": {},
   "outputs": [],
   "source": [
    "myfunc('anujaDEEpaK')"
   ]
  },
  {
   "cell_type": "code",
   "execution_count": 84,
   "id": "01b76281-42df-478a-8df4-5a6b75168d38",
   "metadata": {},
   "outputs": [
    {
     "data": {
      "text/plain": [
       "False"
      ]
     },
     "execution_count": 84,
     "metadata": {},
     "output_type": "execute_result"
    }
   ],
   "source": [
    "i = 'a'\n",
    "i.isupper()"
   ]
  },
  {
   "cell_type": "code",
   "execution_count": 103,
   "id": "70e91803-5732-4473-b41b-bb6e50d2897e",
   "metadata": {},
   "outputs": [],
   "source": [
    "def myfunc(*args):\n",
    "    string = args[0]\n",
    "    ns = ''\n",
    "    for i in string:\n",
    "        if i.islower():\n",
    "            ns = ns + i.upper()\n",
    "        else:\n",
    "            ns += i.lower()\n",
    "    return ns\n",
    "        "
   ]
  },
  {
   "cell_type": "code",
   "execution_count": 107,
   "id": "43318612-6b18-4554-af1c-d9aaf72be8b9",
   "metadata": {},
   "outputs": [
    {
     "data": {
      "text/plain": [
       "'ANUJdpakEEEEE'"
      ]
     },
     "execution_count": 107,
     "metadata": {},
     "output_type": "execute_result"
    }
   ],
   "source": [
    "myfunc('anujDPAKeeeee','DEE')"
   ]
  },
  {
   "cell_type": "code",
   "execution_count": 108,
   "id": "40568874-b526-41db-8b0c-f21619ce8ec9",
   "metadata": {},
   "outputs": [],
   "source": [
    "def myfunc(*args):\n",
    "    \n",
    "    final_sentence = ''\n",
    "    \n",
    "    for index, char in enumerate(*args):\n",
    "        if index % 2 == 0:\n",
    "            final_sentence += char.upper()\n",
    "        else:\n",
    "            final_sentence += char.lower()\n",
    "            \n",
    "    return final_sentence"
   ]
  },
  {
   "cell_type": "code",
   "execution_count": 2,
   "id": "c71ee134-a779-4d2d-b81f-d196c6ce9975",
   "metadata": {},
   "outputs": [],
   "source": [
    "def square(num):\n",
    "    return num**2"
   ]
  },
  {
   "cell_type": "code",
   "execution_count": 3,
   "id": "912d38b3-27b3-4165-8abe-59169eefaacd",
   "metadata": {},
   "outputs": [],
   "source": [
    "nums = [1,2,3,4]"
   ]
  },
  {
   "cell_type": "code",
   "execution_count": 4,
   "id": "e2077669-cf94-4eb3-b8d9-43a9fed73d92",
   "metadata": {},
   "outputs": [
    {
     "data": {
      "text/plain": [
       "<map at 0x29f6af39ab0>"
      ]
     },
     "execution_count": 4,
     "metadata": {},
     "output_type": "execute_result"
    }
   ],
   "source": [
    "map(square,nums)"
   ]
  },
  {
   "cell_type": "code",
   "execution_count": 13,
   "id": "ea3f7e10-c9f4-49dd-880b-2325c84cb04b",
   "metadata": {},
   "outputs": [
    {
     "name": "stdout",
     "output_type": "stream",
     "text": [
      "1\n",
      "4\n",
      "9\n",
      "16\n",
      "25\n",
      "36\n",
      "49\n",
      "64\n"
     ]
    }
   ],
   "source": [
    "for item in map(square,nums):\n",
    "    print(item)"
   ]
  },
  {
   "cell_type": "code",
   "execution_count": 6,
   "id": "64be6383-fd85-45d5-91ad-75f13408b89d",
   "metadata": {},
   "outputs": [
    {
     "name": "stdout",
     "output_type": "stream",
     "text": [
      "1\n",
      "2\n",
      "3\n",
      "4\n"
     ]
    }
   ],
   "source": [
    "for item in filter(square,nums):\n",
    "    print(item)"
   ]
  },
  {
   "cell_type": "code",
   "execution_count": 7,
   "id": "3ae35420-5d16-4aa0-bd49-477207b8d345",
   "metadata": {},
   "outputs": [],
   "source": [
    "def even(num):\n",
    "    if num%2==0:\n",
    "        return num"
   ]
  },
  {
   "cell_type": "code",
   "execution_count": 9,
   "id": "2baa20d1-a134-4190-bca8-25626a487271",
   "metadata": {},
   "outputs": [],
   "source": [
    "nums = [1,2,3,4,5,6,7,8]"
   ]
  },
  {
   "cell_type": "code",
   "execution_count": 10,
   "id": "1455540c-fbb3-4159-9add-7cae38e9c15c",
   "metadata": {},
   "outputs": [
    {
     "data": {
      "text/plain": [
       "[None, 2, None, 4, None, 6, None, 8]"
      ]
     },
     "execution_count": 10,
     "metadata": {},
     "output_type": "execute_result"
    }
   ],
   "source": [
    "list(map(even,nums))"
   ]
  },
  {
   "cell_type": "code",
   "execution_count": 11,
   "id": "de19b3ca-9970-4eb4-b5a7-ad4d476b3513",
   "metadata": {},
   "outputs": [
    {
     "data": {
      "text/plain": [
       "[2, 4, 6, 8]"
      ]
     },
     "execution_count": 11,
     "metadata": {},
     "output_type": "execute_result"
    }
   ],
   "source": [
    "list(filter(even,nums))"
   ]
  },
  {
   "cell_type": "code",
   "execution_count": 12,
   "id": "d7227c52-8338-4893-bb5f-18b7e92a1a6f",
   "metadata": {},
   "outputs": [],
   "source": [
    "def square(num):\n",
    "    return num**2"
   ]
  },
  {
   "cell_type": "code",
   "execution_count": 14,
   "id": "002301f9-8cba-465a-a7a2-05686a2a8ee1",
   "metadata": {},
   "outputs": [
    {
     "data": {
      "text/plain": [
       "9"
      ]
     },
     "execution_count": 14,
     "metadata": {},
     "output_type": "execute_result"
    }
   ],
   "source": [
    "square(3)"
   ]
  },
  {
   "cell_type": "code",
   "execution_count": 18,
   "id": "afd9690b-6d26-4f9d-8c1e-4ac3b5fbb068",
   "metadata": {},
   "outputs": [
    {
     "data": {
      "text/plain": [
       "[1, 4, 9, 16, 25, 36, 49, 64]"
      ]
     },
     "execution_count": 18,
     "metadata": {},
     "output_type": "execute_result"
    }
   ],
   "source": [
    "list(map(square,nums))"
   ]
  },
  {
   "cell_type": "code",
   "execution_count": 15,
   "id": "89b705c8-5519-47da-beca-cbff4d97d6b3",
   "metadata": {},
   "outputs": [
    {
     "data": {
      "text/plain": [
       "<function __main__.<lambda>(num)>"
      ]
     },
     "execution_count": 15,
     "metadata": {},
     "output_type": "execute_result"
    }
   ],
   "source": [
    "lambda num: num ** 2"
   ]
  },
  {
   "cell_type": "code",
   "execution_count": 16,
   "id": "93e750e4-5cc2-423a-ac40-e72da7c88588",
   "metadata": {},
   "outputs": [
    {
     "data": {
      "text/plain": [
       "<map at 0x29f6af3bf10>"
      ]
     },
     "execution_count": 16,
     "metadata": {},
     "output_type": "execute_result"
    }
   ],
   "source": [
    "map(lambda num: num ** 2,nums)"
   ]
  },
  {
   "cell_type": "code",
   "execution_count": 17,
   "id": "5cd0d3cd-6cb0-4329-8cb8-46c3cd1ed342",
   "metadata": {},
   "outputs": [
    {
     "data": {
      "text/plain": [
       "[1, 4, 9, 16, 25, 36, 49, 64]"
      ]
     },
     "execution_count": 17,
     "metadata": {},
     "output_type": "execute_result"
    }
   ],
   "source": [
    "list(map(lambda num: num ** 2,nums))"
   ]
  },
  {
   "cell_type": "code",
   "execution_count": 19,
   "id": "a5048fa8-23ba-40e0-bc3f-9ab42d1949c6",
   "metadata": {},
   "outputs": [],
   "source": [
    "def even(num):\n",
    "    return num%2==0"
   ]
  },
  {
   "cell_type": "code",
   "execution_count": 20,
   "id": "7c157d11-54ae-4c60-8f26-14438063182f",
   "metadata": {},
   "outputs": [
    {
     "data": {
      "text/plain": [
       "[False, True, False, True, False, True, False, True]"
      ]
     },
     "execution_count": 20,
     "metadata": {},
     "output_type": "execute_result"
    }
   ],
   "source": [
    "list(map(even,nums))"
   ]
  },
  {
   "cell_type": "code",
   "execution_count": 21,
   "id": "f6adc7ca-c8ea-4315-9842-84bf2d5328d8",
   "metadata": {},
   "outputs": [
    {
     "data": {
      "text/plain": [
       "[2, 4, 6, 8]"
      ]
     },
     "execution_count": 21,
     "metadata": {},
     "output_type": "execute_result"
    }
   ],
   "source": [
    "list(filter(even,nums))"
   ]
  },
  {
   "cell_type": "code",
   "execution_count": 24,
   "id": "8c8b5375-f0fa-4c1f-81ae-52bcd9c88cd3",
   "metadata": {},
   "outputs": [
    {
     "data": {
      "text/plain": [
       "[2, 4, 6, 8]"
      ]
     },
     "execution_count": 24,
     "metadata": {},
     "output_type": "execute_result"
    }
   ],
   "source": [
    "list(filter(lambda num:num%2==0,nums))"
   ]
  },
  {
   "cell_type": "markdown",
   "id": "d941961a-62ec-4b1a-b22b-61662aa14cb8",
   "metadata": {},
   "source": [
    "NESTED STATEMENTS AND SCOPE"
   ]
  },
  {
   "cell_type": "markdown",
   "id": "d9372822-b1e3-441e-81c4-3cf8fa162f9c",
   "metadata": {},
   "source": [
    "LEGB (Local, enclosing, global, built-in)"
   ]
  },
  {
   "cell_type": "code",
   "execution_count": 5,
   "id": "9102f744-6be7-4045-b983-bd0dd4cfc5e4",
   "metadata": {},
   "outputs": [],
   "source": [
    "name = 'this is a global name'"
   ]
  },
  {
   "cell_type": "code",
   "execution_count": 6,
   "id": "873ade45-4f4d-49aa-9dfa-0320e7a8722e",
   "metadata": {},
   "outputs": [
    {
     "name": "stdout",
     "output_type": "stream",
     "text": [
      "hianuja\n"
     ]
    }
   ],
   "source": [
    "def my_function():\n",
    "    name = 'anuja'\n",
    "    def inside():\n",
    "        print(\"hi\"+name)\n",
    "    inside()\n",
    "my_function()\n",
    "        "
   ]
  },
  {
   "cell_type": "code",
   "execution_count": 2,
   "id": "567d9550-47a9-4fd3-b658-13cc0908f4ac",
   "metadata": {},
   "outputs": [],
   "source": [
    "x = 50"
   ]
  },
  {
   "cell_type": "code",
   "execution_count": 3,
   "id": "0ce250f3-2b57-402e-b361-1565e0b12720",
   "metadata": {},
   "outputs": [],
   "source": [
    "def ss():\n",
    "    global x\n",
    "    print(x)\n",
    "    #local\n",
    "    x = 69\n",
    "    print(x)"
   ]
  },
  {
   "cell_type": "code",
   "execution_count": 4,
   "id": "24076335-6c20-4949-b718-a7b603629fe0",
   "metadata": {},
   "outputs": [
    {
     "name": "stdout",
     "output_type": "stream",
     "text": [
      "50\n",
      "69\n"
     ]
    }
   ],
   "source": [
    "ss()"
   ]
  },
  {
   "cell_type": "code",
   "execution_count": null,
   "id": "1921a171-7907-421e-ab25-60e0df019da7",
   "metadata": {},
   "outputs": [],
   "source": []
  }
 ],
 "metadata": {
  "kernelspec": {
   "display_name": "Python 3 (ipykernel)",
   "language": "python",
   "name": "python3"
  },
  "language_info": {
   "codemirror_mode": {
    "name": "ipython",
    "version": 3
   },
   "file_extension": ".py",
   "mimetype": "text/x-python",
   "name": "python",
   "nbconvert_exporter": "python",
   "pygments_lexer": "ipython3",
   "version": "3.11.7"
  }
 },
 "nbformat": 4,
 "nbformat_minor": 5
}
